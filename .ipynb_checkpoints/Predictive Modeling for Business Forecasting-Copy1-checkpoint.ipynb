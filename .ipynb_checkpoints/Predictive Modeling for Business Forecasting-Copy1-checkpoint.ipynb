{
 "cells": [
  {
   "cell_type": "markdown",
   "id": "fcbd040a",
   "metadata": {},
   "source": [
    "# Predictive Modeling for Business Forecasting\n",
    "  27 February 2024"
   ]
  },
  {
   "cell_type": "markdown",
   "id": "4ec7f659",
   "metadata": {},
   "source": [
    "# Load the dataset and perform data preprocessing"
   ]
  },
  {
   "cell_type": "code",
   "execution_count": null,
   "id": "74d907e3",
   "metadata": {},
   "outputs": [],
   "source": [
    "import pandas as pd\n",
    "import numpy as np\n",
    "import matplotlib.pyplot as plt\n",
    "from sklearn.model_selection import train_test_split\n",
    "from sklearn.linear_model import LinearRegression\n",
    "from sklearn.ensemble import RandomForestRegressor\n",
    "from sklearn.metrics import mean_squared_error\n",
    "from sklearn.preprocessing import PolynomialFeatures\n",
    "from sklearn.impute import SimpleImputer"
   ]
  },
  {
   "cell_type": "code",
   "execution_count": 5,
   "id": "b2efceba",
   "metadata": {},
   "outputs": [
    {
     "data": {
      "text/html": [
       "<div>\n",
       "<style scoped>\n",
       "    .dataframe tbody tr th:only-of-type {\n",
       "        vertical-align: middle;\n",
       "    }\n",
       "\n",
       "    .dataframe tbody tr th {\n",
       "        vertical-align: top;\n",
       "    }\n",
       "\n",
       "    .dataframe thead th {\n",
       "        text-align: right;\n",
       "    }\n",
       "</style>\n",
       "<table border=\"1\" class=\"dataframe\">\n",
       "  <thead>\n",
       "    <tr style=\"text-align: right;\">\n",
       "      <th></th>\n",
       "      <th>Company</th>\n",
       "      <th>Time</th>\n",
       "      <th>Financial Distress</th>\n",
       "      <th>x1</th>\n",
       "      <th>x2</th>\n",
       "      <th>x3</th>\n",
       "      <th>x4</th>\n",
       "      <th>x5</th>\n",
       "      <th>x6</th>\n",
       "      <th>x7</th>\n",
       "      <th>...</th>\n",
       "      <th>x74</th>\n",
       "      <th>x75</th>\n",
       "      <th>x76</th>\n",
       "      <th>x77</th>\n",
       "      <th>x78</th>\n",
       "      <th>x79</th>\n",
       "      <th>x80</th>\n",
       "      <th>x81</th>\n",
       "      <th>x82</th>\n",
       "      <th>x83</th>\n",
       "    </tr>\n",
       "  </thead>\n",
       "  <tbody>\n",
       "    <tr>\n",
       "      <th>0</th>\n",
       "      <td>1</td>\n",
       "      <td>1</td>\n",
       "      <td>0.010636</td>\n",
       "      <td>1.28100</td>\n",
       "      <td>0.022934</td>\n",
       "      <td>0.87454</td>\n",
       "      <td>1.21640</td>\n",
       "      <td>0.060940</td>\n",
       "      <td>0.188270</td>\n",
       "      <td>0.52510</td>\n",
       "      <td>...</td>\n",
       "      <td>85.437</td>\n",
       "      <td>27.07</td>\n",
       "      <td>26.102</td>\n",
       "      <td>16.000</td>\n",
       "      <td>16.0</td>\n",
       "      <td>0.2</td>\n",
       "      <td>22</td>\n",
       "      <td>0.060390</td>\n",
       "      <td>30</td>\n",
       "      <td>49</td>\n",
       "    </tr>\n",
       "    <tr>\n",
       "      <th>1</th>\n",
       "      <td>1</td>\n",
       "      <td>2</td>\n",
       "      <td>-0.455970</td>\n",
       "      <td>1.27000</td>\n",
       "      <td>0.006454</td>\n",
       "      <td>0.82067</td>\n",
       "      <td>1.00490</td>\n",
       "      <td>-0.014080</td>\n",
       "      <td>0.181040</td>\n",
       "      <td>0.62288</td>\n",
       "      <td>...</td>\n",
       "      <td>107.090</td>\n",
       "      <td>31.31</td>\n",
       "      <td>30.194</td>\n",
       "      <td>17.000</td>\n",
       "      <td>16.0</td>\n",
       "      <td>0.4</td>\n",
       "      <td>22</td>\n",
       "      <td>0.010636</td>\n",
       "      <td>31</td>\n",
       "      <td>50</td>\n",
       "    </tr>\n",
       "    <tr>\n",
       "      <th>2</th>\n",
       "      <td>1</td>\n",
       "      <td>3</td>\n",
       "      <td>-0.325390</td>\n",
       "      <td>1.05290</td>\n",
       "      <td>-0.059379</td>\n",
       "      <td>0.92242</td>\n",
       "      <td>0.72926</td>\n",
       "      <td>0.020476</td>\n",
       "      <td>0.044865</td>\n",
       "      <td>0.43292</td>\n",
       "      <td>...</td>\n",
       "      <td>120.870</td>\n",
       "      <td>36.07</td>\n",
       "      <td>35.273</td>\n",
       "      <td>17.000</td>\n",
       "      <td>15.0</td>\n",
       "      <td>-0.2</td>\n",
       "      <td>22</td>\n",
       "      <td>-0.455970</td>\n",
       "      <td>32</td>\n",
       "      <td>51</td>\n",
       "    </tr>\n",
       "    <tr>\n",
       "      <th>3</th>\n",
       "      <td>1</td>\n",
       "      <td>4</td>\n",
       "      <td>-0.566570</td>\n",
       "      <td>1.11310</td>\n",
       "      <td>-0.015229</td>\n",
       "      <td>0.85888</td>\n",
       "      <td>0.80974</td>\n",
       "      <td>0.076037</td>\n",
       "      <td>0.091033</td>\n",
       "      <td>0.67546</td>\n",
       "      <td>...</td>\n",
       "      <td>54.806</td>\n",
       "      <td>39.80</td>\n",
       "      <td>38.377</td>\n",
       "      <td>17.167</td>\n",
       "      <td>16.0</td>\n",
       "      <td>5.6</td>\n",
       "      <td>22</td>\n",
       "      <td>-0.325390</td>\n",
       "      <td>33</td>\n",
       "      <td>52</td>\n",
       "    </tr>\n",
       "    <tr>\n",
       "      <th>4</th>\n",
       "      <td>2</td>\n",
       "      <td>1</td>\n",
       "      <td>1.357300</td>\n",
       "      <td>1.06230</td>\n",
       "      <td>0.107020</td>\n",
       "      <td>0.81460</td>\n",
       "      <td>0.83593</td>\n",
       "      <td>0.199960</td>\n",
       "      <td>0.047800</td>\n",
       "      <td>0.74200</td>\n",
       "      <td>...</td>\n",
       "      <td>85.437</td>\n",
       "      <td>27.07</td>\n",
       "      <td>26.102</td>\n",
       "      <td>16.000</td>\n",
       "      <td>16.0</td>\n",
       "      <td>0.2</td>\n",
       "      <td>29</td>\n",
       "      <td>1.251000</td>\n",
       "      <td>7</td>\n",
       "      <td>27</td>\n",
       "    </tr>\n",
       "    <tr>\n",
       "      <th>5</th>\n",
       "      <td>2</td>\n",
       "      <td>2</td>\n",
       "      <td>0.007188</td>\n",
       "      <td>1.05580</td>\n",
       "      <td>0.081916</td>\n",
       "      <td>0.87949</td>\n",
       "      <td>0.68673</td>\n",
       "      <td>0.142630</td>\n",
       "      <td>0.043102</td>\n",
       "      <td>0.77198</td>\n",
       "      <td>...</td>\n",
       "      <td>107.090</td>\n",
       "      <td>31.31</td>\n",
       "      <td>30.194</td>\n",
       "      <td>17.000</td>\n",
       "      <td>16.0</td>\n",
       "      <td>0.4</td>\n",
       "      <td>29</td>\n",
       "      <td>1.357300</td>\n",
       "      <td>8</td>\n",
       "      <td>28</td>\n",
       "    </tr>\n",
       "    <tr>\n",
       "      <th>6</th>\n",
       "      <td>2</td>\n",
       "      <td>3</td>\n",
       "      <td>1.200200</td>\n",
       "      <td>0.97059</td>\n",
       "      <td>0.076064</td>\n",
       "      <td>0.90677</td>\n",
       "      <td>0.80980</td>\n",
       "      <td>0.165920</td>\n",
       "      <td>-0.024649</td>\n",
       "      <td>0.73660</td>\n",
       "      <td>...</td>\n",
       "      <td>120.870</td>\n",
       "      <td>36.07</td>\n",
       "      <td>35.273</td>\n",
       "      <td>17.000</td>\n",
       "      <td>15.0</td>\n",
       "      <td>-0.2</td>\n",
       "      <td>29</td>\n",
       "      <td>0.007188</td>\n",
       "      <td>9</td>\n",
       "      <td>29</td>\n",
       "    </tr>\n",
       "    <tr>\n",
       "      <th>7</th>\n",
       "      <td>2</td>\n",
       "      <td>4</td>\n",
       "      <td>2.234800</td>\n",
       "      <td>1.05900</td>\n",
       "      <td>0.130200</td>\n",
       "      <td>0.81811</td>\n",
       "      <td>0.87599</td>\n",
       "      <td>0.234450</td>\n",
       "      <td>0.045576</td>\n",
       "      <td>0.78727</td>\n",
       "      <td>...</td>\n",
       "      <td>54.806</td>\n",
       "      <td>39.80</td>\n",
       "      <td>38.377</td>\n",
       "      <td>17.167</td>\n",
       "      <td>16.0</td>\n",
       "      <td>5.6</td>\n",
       "      <td>29</td>\n",
       "      <td>1.200200</td>\n",
       "      <td>10</td>\n",
       "      <td>30</td>\n",
       "    </tr>\n",
       "    <tr>\n",
       "      <th>8</th>\n",
       "      <td>2</td>\n",
       "      <td>5</td>\n",
       "      <td>1.340500</td>\n",
       "      <td>1.12450</td>\n",
       "      <td>0.147840</td>\n",
       "      <td>0.75871</td>\n",
       "      <td>1.07990</td>\n",
       "      <td>0.276440</td>\n",
       "      <td>0.089408</td>\n",
       "      <td>0.80356</td>\n",
       "      <td>...</td>\n",
       "      <td>59.806</td>\n",
       "      <td>44.53</td>\n",
       "      <td>42.822</td>\n",
       "      <td>15.500</td>\n",
       "      <td>14.0</td>\n",
       "      <td>2.1</td>\n",
       "      <td>29</td>\n",
       "      <td>2.234800</td>\n",
       "      <td>11</td>\n",
       "      <td>31</td>\n",
       "    </tr>\n",
       "    <tr>\n",
       "      <th>9</th>\n",
       "      <td>2</td>\n",
       "      <td>6</td>\n",
       "      <td>2.047400</td>\n",
       "      <td>1.59980</td>\n",
       "      <td>0.262460</td>\n",
       "      <td>0.54615</td>\n",
       "      <td>1.31270</td>\n",
       "      <td>0.369480</td>\n",
       "      <td>0.296640</td>\n",
       "      <td>0.85364</td>\n",
       "      <td>...</td>\n",
       "      <td>66.262</td>\n",
       "      <td>52.74</td>\n",
       "      <td>49.206</td>\n",
       "      <td>15.500</td>\n",
       "      <td>12.0</td>\n",
       "      <td>-6.4</td>\n",
       "      <td>29</td>\n",
       "      <td>1.340500</td>\n",
       "      <td>12</td>\n",
       "      <td>32</td>\n",
       "    </tr>\n",
       "  </tbody>\n",
       "</table>\n",
       "<p>10 rows × 86 columns</p>\n",
       "</div>"
      ],
      "text/plain": [
       "   Company  Time  Financial Distress       x1        x2       x3       x4  \\\n",
       "0        1     1            0.010636  1.28100  0.022934  0.87454  1.21640   \n",
       "1        1     2           -0.455970  1.27000  0.006454  0.82067  1.00490   \n",
       "2        1     3           -0.325390  1.05290 -0.059379  0.92242  0.72926   \n",
       "3        1     4           -0.566570  1.11310 -0.015229  0.85888  0.80974   \n",
       "4        2     1            1.357300  1.06230  0.107020  0.81460  0.83593   \n",
       "5        2     2            0.007188  1.05580  0.081916  0.87949  0.68673   \n",
       "6        2     3            1.200200  0.97059  0.076064  0.90677  0.80980   \n",
       "7        2     4            2.234800  1.05900  0.130200  0.81811  0.87599   \n",
       "8        2     5            1.340500  1.12450  0.147840  0.75871  1.07990   \n",
       "9        2     6            2.047400  1.59980  0.262460  0.54615  1.31270   \n",
       "\n",
       "         x5        x6       x7  ...      x74    x75     x76     x77   x78  \\\n",
       "0  0.060940  0.188270  0.52510  ...   85.437  27.07  26.102  16.000  16.0   \n",
       "1 -0.014080  0.181040  0.62288  ...  107.090  31.31  30.194  17.000  16.0   \n",
       "2  0.020476  0.044865  0.43292  ...  120.870  36.07  35.273  17.000  15.0   \n",
       "3  0.076037  0.091033  0.67546  ...   54.806  39.80  38.377  17.167  16.0   \n",
       "4  0.199960  0.047800  0.74200  ...   85.437  27.07  26.102  16.000  16.0   \n",
       "5  0.142630  0.043102  0.77198  ...  107.090  31.31  30.194  17.000  16.0   \n",
       "6  0.165920 -0.024649  0.73660  ...  120.870  36.07  35.273  17.000  15.0   \n",
       "7  0.234450  0.045576  0.78727  ...   54.806  39.80  38.377  17.167  16.0   \n",
       "8  0.276440  0.089408  0.80356  ...   59.806  44.53  42.822  15.500  14.0   \n",
       "9  0.369480  0.296640  0.85364  ...   66.262  52.74  49.206  15.500  12.0   \n",
       "\n",
       "   x79  x80       x81  x82  x83  \n",
       "0  0.2   22  0.060390   30   49  \n",
       "1  0.4   22  0.010636   31   50  \n",
       "2 -0.2   22 -0.455970   32   51  \n",
       "3  5.6   22 -0.325390   33   52  \n",
       "4  0.2   29  1.251000    7   27  \n",
       "5  0.4   29  1.357300    8   28  \n",
       "6 -0.2   29  0.007188    9   29  \n",
       "7  5.6   29  1.200200   10   30  \n",
       "8  2.1   29  2.234800   11   31  \n",
       "9 -6.4   29  1.340500   12   32  \n",
       "\n",
       "[10 rows x 86 columns]"
      ]
     },
     "execution_count": 5,
     "metadata": {},
     "output_type": "execute_result"
    }
   ],
   "source": [
    "distress = pd.read_csv('Financial Distress.csv')\n",
    "distress.head(10)"
   ]
  },
  {
   "cell_type": "code",
   "execution_count": 6,
   "id": "70e8959c",
   "metadata": {},
   "outputs": [
    {
     "name": "stdout",
     "output_type": "stream",
     "text": [
      "Company               0\n",
      "Time                  0\n",
      "Financial Distress    0\n",
      "x1                    0\n",
      "x2                    0\n",
      "                     ..\n",
      "x79                   0\n",
      "x80                   0\n",
      "x81                   0\n",
      "x82                   0\n",
      "x83                   0\n",
      "Length: 86, dtype: int64\n"
     ]
    }
   ],
   "source": [
    "# Missing values\n",
    "print(distress.isnull().sum())"
   ]
  },
  {
   "cell_type": "markdown",
   "id": "fd0b0e4f",
   "metadata": {},
   "source": [
    "# Feature Selection and Engineering"
   ]
  },
  {
   "cell_type": "code",
   "execution_count": null,
   "id": "749e3549",
   "metadata": {},
   "outputs": [],
   "source": [
    "# Correlation matrix to identify highly correlated features\n",
    "correlation_matrix = distress.corr().abs()\n",
    "upper_tri = correlation_matrix.where(np.triu(np.ones(correlation_matrix.shape), k=1).astype(np.bool))\n",
    "to_drop = [column for column in upper_tri.columns if any(upper_tri[column] > 0.95)]\n",
    "distress.drop(to_drop, axis=1, inplace=True)"
   ]
  },
  {
   "cell_type": "code",
   "execution_count": null,
   "id": "0c7fe606",
   "metadata": {},
   "outputs": [],
   "source": [
    "# Define features and target variable\n",
    "x = distress.drop(columns=['Financial Distress'])\n",
    "y = distress['Financial Distress']"
   ]
  },
  {
   "cell_type": "code",
   "execution_count": 11,
   "id": "6fed9820",
   "metadata": {},
   "outputs": [],
   "source": [
    "# Handle missing values: impute with the mean of each column\n",
    "imputer = SimpleImputer(strategy='mean')\n",
    "x_imputed = imputer.fit_transform(x)"
   ]
  },
  {
   "cell_type": "code",
   "execution_count": null,
   "id": "7c151aee",
   "metadata": {},
   "outputs": [],
   "source": [
    "# Feature Engineering: Create polynomial features\n",
    "poly = PolynomialFeatures(degree=2, include_bias=False)\n",
    "x_poly = poly.fit_transform(x_imputed)"
   ]
  },
  {
   "cell_type": "code",
   "execution_count": null,
   "id": "a850966f",
   "metadata": {},
   "outputs": [],
   "source": [
    "# Create additional time-related features\n",
    "distress['month'] = pd.to_datetime(distress['Time']).dt.month\n",
    "distress['day'] = pd.to_datetime(distress['Time']).dt.day\n",
    "distress['hour'] = pd.to_datetime(distress['Time']).dt.hour\n",
    "distress['x1_lag1'] = distress['x1'].shift(1)"
   ]
  },
  {
   "cell_type": "markdown",
   "id": "5c5494a4",
   "metadata": {},
   "source": [
    "# Model Selection"
   ]
  },
  {
   "cell_type": "code",
   "execution_count": null,
   "id": "518c7a61",
   "metadata": {},
   "outputs": [],
   "source": [
    "# Split the data\n",
    "x_train, x_test, y_train, y_test = train_test_split(x_poly, y, test_size=0.2, random_state=42)"
   ]
  },
  {
   "cell_type": "code",
   "execution_count": 14,
   "id": "d5e9048c",
   "metadata": {},
   "outputs": [],
   "source": [
    "# Handle missing values in features\n",
    "imputer = SimpleImputer(strategy='mean')\n",
    "x_train_imputed = imputer.fit_transform(x_train)\n",
    "x_test_imputed = imputer.transform(x_test)"
   ]
  },
  {
   "cell_type": "code",
   "execution_count": null,
   "id": "7f54d7ce",
   "metadata": {},
   "outputs": [],
   "source": [
    "# Define models to evaluate\n",
    "models = {\n",
    "    \"Linear Regression\": LinearRegression(),\n",
    "    \"Random Forest Regressor\": RandomForestRegressor(random_state=42)"
   ]
  },
  {
   "cell_type": "code",
   "execution_count": null,
   "id": "3ed06d8f",
   "metadata": {},
   "outputs": [],
   "source": [
    "# Evaluate models\n",
    "for name, model in models.items():\n",
    "    model.fit(x_train, y_train)\n",
    "    y_predict = model.predict(x_test)\n",
    "    mse = mean_squared_error(y_test, y_predict)\n",
    "    print(f\"{name}: Mean Squared Error = {mse:.2f}\")"
   ]
  },
  {
   "cell_type": "markdown",
   "id": "6ebaf16c",
   "metadata": {},
   "source": [
    "# # Model Evaluation"
   ]
  },
  {
   "cell_type": "code",
   "execution_count": null,
   "id": "ca0c5551",
   "metadata": {},
   "outputs": [],
   "source": [
    "# Model Definition\n",
    "model = RandomForestRegressor(random_state=42)"
   ]
  },
  {
   "cell_type": "code",
   "execution_count": null,
   "id": "80a737d5",
   "metadata": {},
   "outputs": [],
   "source": [
    "# Model Training\n",
    "model.fit(x_train_imputed, y_train)"
   ]
  },
  {
   "cell_type": "code",
   "execution_count": null,
   "id": "d9b24b33",
   "metadata": {},
   "outputs": [],
   "source": [
    "# Predictions on tested data\n",
    "y_prediction = model.predict(x_tested_imputed)"
   ]
  },
  {
   "cell_type": "code",
   "execution_count": null,
   "id": "36ce5a17",
   "metadata": {},
   "outputs": [],
   "source": [
    "# Evaluate model: MSE\n",
    "mse = mean_squared_error(y_test, y_predict)\n",
    "print(f\"Mean Squared Error: {mse: .2f}\")"
   ]
  },
  {
   "cell_type": "markdown",
   "id": "a93b86bf",
   "metadata": {},
   "source": [
    "# # Predictive Insights"
   ]
  },
  {
   "cell_type": "code",
   "execution_count": null,
   "id": "aaf40701",
   "metadata": {},
   "outputs": [],
   "source": [
    "# Get feature importance from the Random Forest model\n",
    "feature_importance = model.feature_importances_"
   ]
  },
  {
   "cell_type": "code",
   "execution_count": null,
   "id": "0044b304",
   "metadata": {},
   "outputs": [],
   "source": [
    "# Sort feature importance in descending order\n",
    "sorted_idx = np.argsort(feature_importance)[::-1]"
   ]
  },
  {
   "cell_type": "code",
   "execution_count": null,
   "id": "a8738110",
   "metadata": {},
   "outputs": [],
   "source": [
    "# Print feature names and their importance scores\n",
    "for i in sorted_idx:\n",
    "    print(f\"{x.columns[i]}: {feature_importance[i]}\")"
   ]
  },
  {
   "cell_type": "code",
   "execution_count": null,
   "id": "89c412fd",
   "metadata": {},
   "outputs": [],
   "source": [
    "# Calculate residuals and identify instances with high prediction errors\n",
    "residuals = y_test - y_predict\n",
    "high_error_indices = np.argsort(np.abs(residuals))[::-1][:10]"
   ]
  },
  {
   "cell_type": "code",
   "execution_count": null,
   "id": "e0a64d7f",
   "metadata": {},
   "outputs": [],
   "source": [
    "# Print feature values and their corresponding actual and predicted values for high-error instances\n",
    "for idx in high_error_indices:\n",
    "    print(f\"Instance {idx}:\")\n",
    "    print(f\"Actual Value: {y_test.iloc[idx]}\")\n",
    "    print(f\"Predicted Value: {y_predict[idx]}\")\n",
    "    print(f\"Features: {x_test[idx]}\")"
   ]
  },
  {
   "cell_type": "code",
   "execution_count": null,
   "id": "a48f29cc",
   "metadata": {},
   "outputs": [],
   "source": []
  }
 ],
 "metadata": {
  "kernelspec": {
   "display_name": "Python 3 (ipykernel)",
   "language": "python",
   "name": "python3"
  },
  "language_info": {
   "codemirror_mode": {
    "name": "ipython",
    "version": 3
   },
   "file_extension": ".py",
   "mimetype": "text/x-python",
   "name": "python",
   "nbconvert_exporter": "python",
   "pygments_lexer": "ipython3",
   "version": "3.11.5"
  }
 },
 "nbformat": 4,
 "nbformat_minor": 5
}
